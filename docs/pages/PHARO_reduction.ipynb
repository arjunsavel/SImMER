{
 "cells": [
  {
   "cell_type": "markdown",
   "metadata": {},
   "source": [
    "# PHARO Reduction Quickstart"
   ]
  },
  {
   "cell_type": "code",
   "execution_count": 2,
   "metadata": {},
   "outputs": [],
   "source": [
    "import os\n",
    "\n",
    "import simmer.insts as i\n",
    "import simmer.drivers as drivers\n",
    "from simmer.tests.tests_reduction import download_folder"
   ]
  },
  {
   "cell_type": "markdown",
   "metadata": {},
   "source": [
    "## 1. Collect your data\n",
    "For our purposes, we'll just download some quickstart data."
   ]
  },
  {
   "cell_type": "code",
   "execution_count": 3,
   "metadata": {},
   "outputs": [],
   "source": [
    "download_folder(\"PHARO_integration\")"
   ]
  },
  {
   "cell_type": "markdown",
   "metadata": {},
   "source": [
    "## 2. Initializing the instrument"
   ]
  },
  {
   "cell_type": "markdown",
   "metadata": {},
   "source": [
    "We begin by instantiating the code — but this time, with a different instrument and different data. The downloaded files will take up about a gigabyte of space, and they’ll be placed in a folder in your current directory.\n",
    "\n",
    "Many specifics (plate scale, FITS headers) are bound as attributes and methods to their respective instrument class."
   ]
  },
  {
   "cell_type": "code",
   "execution_count": 4,
   "metadata": {},
   "outputs": [],
   "source": [
    "inst = i.PHARO()"
   ]
  },
  {
   "cell_type": "markdown",
   "metadata": {},
   "source": [
    "This instantiates `inst` as an `instrument` object prepared to reduced ShARCS data."
   ]
  },
  {
   "cell_type": "markdown",
   "metadata": {},
   "source": [
    "## 3. Creating the config file"
   ]
  },
  {
   "cell_type": "markdown",
   "metadata": {},
   "source": [
    "Next, you’ll want to set up your config file path, raw data directory, and reduced data directory. In our case, this takes the form of the below. Note that `reddir` needs to be a directory that's already been created."
   ]
  },
  {
   "cell_type": "code",
   "execution_count": 5,
   "metadata": {},
   "outputs": [],
   "source": [
    "path_to_notebook = os.getcwd()\n",
    "\n",
    "config_file = \"test_image_config.csv\"\n",
    "raw_dir = \"PHARO_integration/\"\n",
    "\n",
    "os.mkdir(\"reduced\")\n",
    "\n",
    "reddir = \"reduced/\""
   ]
  },
  {
   "cell_type": "markdown",
   "metadata": {},
   "source": [
    "## 4. Performing the reduction"
   ]
  },
  {
   "cell_type": "markdown",
   "metadata": {},
   "source": [
    "Finally, run all drivers to perform the reduction!"
   ]
  },
  {
   "cell_type": "code",
   "execution_count": null,
   "metadata": {},
   "outputs": [
    {
     "name": "stderr",
     "output_type": "stream",
     "text": [
      "Running darks: 100%|██████████| 1/1 [00:06<00:00,  6.40s/it]\n",
      "Running flats: 100%|██████████| 1/1 [00:05<00:00,  5.96s/it]\n",
      "Running skies: 100%|██████████| 1/1 [00:10<00:00, 10.27s/it]\n",
      "Running image driver: 100%|██████████| 1/1 [01:31<00:00, 91.79s/it]\n",
      "Running registration:   0%|          | 0/1 [00:00<?, ?it/s]"
     ]
    }
   ],
   "source": [
    "drivers.all_driver(inst, config_file, raw_dir, reddir)"
   ]
  },
  {
   "cell_type": "code",
   "execution_count": null,
   "metadata": {},
   "outputs": [],
   "source": []
  }
 ],
 "metadata": {
  "kernelspec": {
   "display_name": "Python 3",
   "language": "python",
   "name": "python3"
  },
  "language_info": {
   "codemirror_mode": {
    "name": "ipython",
    "version": 3
   },
   "file_extension": ".py",
   "mimetype": "text/x-python",
   "name": "python",
   "nbconvert_exporter": "python",
   "pygments_lexer": "ipython3",
   "version": "3.7.6"
  }
 },
 "nbformat": 4,
 "nbformat_minor": 2
}
