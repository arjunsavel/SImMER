{
 "cells": [
  {
   "cell_type": "markdown",
   "metadata": {},
   "source": [
    "# ShARCS Reduction Quickstart"
   ]
  },
  {
   "cell_type": "code",
   "execution_count": 1,
   "metadata": {},
   "outputs": [],
   "source": [
    "import os\n",
    "\n",
    "import simmer.insts as i\n",
    "import simmer.drivers as drivers\n",
    "from simmer.tests.tests_reduction import download_folder\n",
    "import simmer.check_logsheet as check\n",
    "import simmer.add_dark_exp as ad\n",
    "import simmer.create_config as c"
   ]
  },
  {
   "cell_type": "markdown",
   "metadata": {},
   "source": [
    "## 1. Collect your data\n",
    "For our purposes, we'll just download some quickstart data."
   ]
  },
  {
   "cell_type": "code",
   "execution_count": 2,
   "metadata": {},
   "outputs": [],
   "source": [
    "download_folder(\n",
    "    \"shane_quickstart\"\n",
    ")  # You don't need to run this if you have your own data to reduce."
   ]
  },
  {
   "cell_type": "code",
   "execution_count": 3,
   "metadata": {},
   "outputs": [],
   "source": [
    "raw_dir = \"shane_quickstart/\"  # change this based on where your raw data is."
   ]
  },
  {
   "cell_type": "markdown",
   "metadata": {},
   "source": [
    "## 2. Initializing the instrument"
   ]
  },
  {
   "cell_type": "markdown",
   "metadata": {},
   "source": [
    "Similarly to the PHARO method, we begin by instantiating the code — but this time, with a different instrument and different data. The downloaded files will take up about a gigabyte of space, and they’ll be placed in a folder in your current directory.\n",
    "\n",
    "Many specifics (plate scale, FITS headers) are bound as attributes and methods to their respective instrument class."
   ]
  },
  {
   "cell_type": "code",
   "execution_count": 4,
   "metadata": {},
   "outputs": [],
   "source": [
    "inst = i.ShARCS()"
   ]
  },
  {
   "cell_type": "markdown",
   "metadata": {},
   "source": [
    "This instantiates `inst` as an `instrument` object prepared to reduced ShARCS data."
   ]
  },
  {
   "cell_type": "markdown",
   "metadata": {},
   "source": [
    "## 3. Creating the config file"
   ]
  },
  {
   "cell_type": "markdown",
   "metadata": {},
   "source": [
    "Next, you’ll want to set up your config file path, raw data directory, and reduced data directory. In our case, this takes the form of the below. Note that `reddir` needs to be a directory that's already been created.\n",
    "\n",
    "In brief, a \"logsheet\" generally refers to records taken during observation: usually an Excel spreadsheet or CSV that lists the target you're observing, the exposure time, the filter, and any comments that might be helpful (e.g. airmass, cloud coverage, adaptive optics performance). In (slight) contrast, an \"config file\" is strictly a CSV file that contains *only* the information that the reduction pipeline needs in the correct format: object, exposure time, filter, and reduction mode, with \"saturated\" being the default reduction mode.\n",
    "\n",
    "If you have a logsheet you'd like to convert to a config file, run the following cells. Otherwise, skip to the last cell in this section.\n",
    "\n",
    "First, we check that our logsheet has the correct values input — for example, that there aren't any missing exposure times that could trip us up later on."
   ]
  },
  {
   "cell_type": "code",
   "execution_count": 5,
   "metadata": {},
   "outputs": [
    {
     "name": "stdout",
     "output_type": "stream",
     "text": [
      "Missing a coadd.\n",
      "8/9 tests passed.\n"
     ]
    }
   ],
   "source": [
    "tab = None  # this is a CSV, so we don't have a tab name of interest.\n",
    "log_name = \"logsheet.csv\"  # this is the path to the logsheet\n",
    "failed_tests = check.check_logsheet(inst, log_name, tab)"
   ]
  },
  {
   "cell_type": "markdown",
   "metadata": {},
   "source": [
    "All tests passed, so we don't need to make any changes to our logsheet. Normally, though, this function might suggest changes to be made so that your logsheet can be correctly parsed later on.\n",
    "\n",
    "ShARCS users often use the automated script on site to take their darks. If this is true for you, you can use the `add_dark_exp` function to locate your darks in your raw data, read their headers, and write the corresponding data to the logsheet."
   ]
  },
  {
   "cell_type": "code",
   "execution_count": 6,
   "metadata": {},
   "outputs": [
    {
     "name": "stdout",
     "output_type": "stream",
     "text": [
      "s1356.fits\n",
      "s1357.fits\n",
      "s1356.fits\n",
      "s1356.fits\n",
      "s1377.fits\n",
      "s1366.fits\n",
      "s1366.fits\n",
      "s1386.fits\n",
      "s1386.fits\n"
     ]
    }
   ],
   "source": [
    "ad.add_dark_exp(\n",
    "    inst,  # no need to run this if you already have rows in your logsheet corresponding to darks.\n",
    "    log_name,\n",
    "    raw_dir,\n",
    "    tab,\n",
    ")"
   ]
  },
  {
   "cell_type": "markdown",
   "metadata": {},
   "source": [
    "Finally, we can create our config file from our logsheet!"
   ]
  },
  {
   "cell_type": "code",
   "execution_count": 7,
   "metadata": {},
   "outputs": [
    {
     "name": "stderr",
     "output_type": "stream",
     "text": [
      "/Users/arjunsavel/Desktop/SImMER/src/simmer/create_config.py:47: SettingWithCopyWarning: \n",
      "A value is trying to be set on a copy of a slice from a DataFrame.\n",
      "Try using .loc[row_indexer,col_indexer] = value instead\n",
      "\n",
      "See the caveats in the documentation: https://pandas.pydata.org/pandas-docs/stable/user_guide/indexing.html#returning-a-view-versus-a-copy\n",
      "  savedf[\"Filenums\"] = pd.Series(filenums)\n"
     ]
    }
   ],
   "source": [
    "config_file = \"logsheet_test.csv\"\n",
    "\n",
    "c.create_config(log_name, config_file)"
   ]
  },
  {
   "cell_type": "markdown",
   "metadata": {},
   "source": [
    "These last steps establish our config file path and set up the reduced data directory."
   ]
  },
  {
   "cell_type": "code",
   "execution_count": 8,
   "metadata": {},
   "outputs": [],
   "source": [
    "# we switch to a different config file here for convenience — one with \"method\" already filled in.\n",
    "config_file = \"config_shane.csv\"\n",
    "\n",
    "os.mkdir(\"reduced\")  # this stays the same if you don't already have a \"reduced\" folder\n",
    "\n",
    "reddir = \"reduced/\"  # same as above comment"
   ]
  },
  {
   "cell_type": "markdown",
   "metadata": {},
   "source": [
    "## 4. Performing the reduction"
   ]
  },
  {
   "cell_type": "markdown",
   "metadata": {},
   "source": [
    "Finally, run all drivers to perform the reduction!"
   ]
  },
  {
   "cell_type": "code",
   "execution_count": 9,
   "metadata": {
    "scrolled": true
   },
   "outputs": [
    {
     "name": "stdout",
     "output_type": "stream",
     "text": [
      "1137 1138 shane_quickstart/s1138.fits\n",
      "1358 1359 shane_quickstart/s1359.fits\n",
      "1141 1142 shane_quickstart/s1142.fits\n",
      "1132 1133 shane_quickstart/s1133.fits\n",
      "1261 1262 shane_quickstart/s1262.fits\n"
     ]
    },
    {
     "name": "stderr",
     "output_type": "stream",
     "text": [
      "\r",
      "Running darks:   0%|          | 0/2 [00:00<?, ?it/s]"
     ]
    },
    {
     "name": "stdout",
     "output_type": "stream",
     "text": [
      "1146 1147 shane_quickstart/s1147.fits\n",
      "1384 1385 shane_quickstart/s1385.fits\n",
      "1149 1150 shane_quickstart/s1150.fits\n"
     ]
    },
    {
     "name": "stderr",
     "output_type": "stream",
     "text": [
      "Running darks: 100%|██████████| 2/2 [00:16<00:00,  8.12s/it]\n",
      "Running flats: 100%|██████████| 3/3 [00:03<00:00,  1.11s/it]\n",
      "Running skies: 100%|██████████| 1/1 [00:04<00:00,  4.16s/it]\n",
      "Running image driver: 100%|██████████| 1/1 [00:08<00:00,  8.34s/it]\n",
      "Running registration:   0%|          | 0/1 [00:00<?, ?it/s]"
     ]
    },
    {
     "name": "stdout",
     "output_type": "stream",
     "text": [
      "Too many images to plot.\n"
     ]
    },
    {
     "name": "stderr",
     "output_type": "stream",
     "text": [
      "Running registration: 100%|██████████| 1/1 [01:31<00:00, 91.91s/it]\n"
     ]
    }
   ],
   "source": [
    "drivers.all_driver(inst, config_file, raw_dir, reddir)"
   ]
  },
  {
   "cell_type": "code",
   "execution_count": null,
   "metadata": {},
   "outputs": [],
   "source": []
  }
 ],
 "metadata": {
  "kernelspec": {
   "display_name": "Python 3",
   "language": "python",
   "name": "python3"
  },
  "language_info": {
   "codemirror_mode": {
    "name": "ipython",
    "version": 3
   },
   "file_extension": ".py",
   "mimetype": "text/x-python",
   "name": "python",
   "nbconvert_exporter": "python",
   "pygments_lexer": "ipython3",
   "version": "3.7.6"
  }
 },
 "nbformat": 4,
 "nbformat_minor": 2
}
